{
 "cells": [
  {
   "cell_type": "code",
   "execution_count": 1,
   "id": "ee920d14",
   "metadata": {},
   "outputs": [],
   "source": [
    "from collections import defaultdict\n",
    "import pandas as pd\n",
    "from Bio import SeqIO"
   ]
  },
  {
   "cell_type": "code",
   "execution_count": 2,
   "id": "65d70294",
   "metadata": {
    "scrolled": false
   },
   "outputs": [
    {
     "name": "stdout",
     "output_type": "stream",
     "text": [
      "19b56c43-1aa1-49f5-ab87-9e11c026627e 19b56c43-1aa1-49f5-ab87-9e11c026627e runid=bb60b3a17350ddca73c8133a1359d2222d84135a sampleid=no_sample read=14042 ch=459 start_time=2022-02-14T15:25:16Z barcode=barcode08 CATAAAGGGGTCACCAGCAACAGGAATGGCAGCTTTTGAGCAGGAAGGAGAACAGAGAAGGGTCAAGCACTTCGTAGTGGCAGAAAGGGACGCATGGCCTAGGGTGTGGCTGTGTTCTGA\n",
      "{'phred_quality': [5, 6, 9, 10, 11, 12, 19, 14, 13, 13, 14, 17, 23, 25, 31, 30, 29, 31, 33, 30, 30, 31, 29, 28, 28, 29, 27, 30, 32, 32, 28, 25, 24, 24, 25, 31, 28, 31, 31, 30, 31, 30, 31, 28, 29, 31, 30, 25, 25, 27, 29, 28, 30, 29, 28, 27, 25, 90, 22, 21, 23, 23, 24, 25, 15, 15, 20, 16, 19, 28, 28, 27, 27, 24, 25, 25, 27, 27, 29, 28, 29, 28, 20, 20, 31, 21, 23, 24, 23, 26, 24, 23, 23, 24, 27, 32, 30, 28, 27, 25, 24, 24, 23, 23, 23, 23, 30, 30, 27, 27, 27, 28, 29, 30, 34, 32, 32, 30, 31, 31]}\n"
     ]
    }
   ],
   "source": [
    "\"\"\"printing sequence information\"\"\"\n",
    "\n",
    "nseqs = SeqIO.parse(open('/home/atearge/Bioinformatics_data/Veriler/Deney_3/T18_154_L/T18_154_L.fastq', 'rt', encoding='utf-8'), 'fastq')\n",
    "nseq = next(nseqs)\n",
    "print(nseq.id, nseq.description, nseq.seq)\n",
    "print(nseq.letter_annotations)"
   ]
  },
  {
   "cell_type": "code",
   "execution_count": 3,
   "id": "3f7a613a",
   "metadata": {},
   "outputs": [],
   "source": [
    "\"\"\"Getting percentage and count of per phred quality score in whole fastq file\"\"\"\n",
    "\n",
    "nseqs = SeqIO.parse(open('/home/atearge/Bioinformatics_data/Veriler/Deney_3/T18_154_L/T18_154_L.fastq', 'rt', encoding='utf-8'), 'fastq')\n",
    "cnt_qual = defaultdict(int)\n",
    "for nseq in nseqs:\n",
    "    for i, qual in enumerate(nseq.letter_annotations['phred_quality']):\n",
    "        cnt_qual[qual] += 1\n",
    "tot = sum(cnt_qual.values())\n",
    "sample =defaultdict(dict)\n",
    "for qual, cnt in cnt_qual.items():\n",
    "    sample[qual]={\"percentage\":100. * cnt / tot, \"count\":cnt}\n",
    "df = pd.DataFrame.from_dict(sample)\n",
    "\n",
    "\n",
    "df.to_excel('/home/atearge/Bioinformatics_data/Veriler/Deney_3/T18_154_L/T18_154_L2.xlsx')\n",
    "\n"
   ]
  },
  {
   "cell_type": "code",
   "execution_count": 4,
   "id": "29644199",
   "metadata": {},
   "outputs": [],
   "source": [
    "\"\"\"Getting average phred quality score for every sequence in whole fastq file\"\"\"\n",
    "\n",
    "nseqs = SeqIO.parse(open('/home/atearge/Bioinformatics_data/Veriler/Deney_3/T18_154_L/T18_154_L.fastq', 'rt', encoding='utf-8'), 'fastq')\n",
    "qual_pos = defaultdict(list)\n",
    "def ortalama(liste):\n",
    "    return sum(liste)/len(liste)\n",
    "\n",
    "sp = 1\n",
    "for nseq in nseqs:\n",
    "    qual_pos[sp] = ortalama(nseq.letter_annotations['phred_quality'])\n",
    "    sp += 1\n",
    "\n",
    "df = pd.DataFrame(data=qual_pos, index=[0])\n",
    "\n",
    "df = (df.T)\n",
    "\n",
    "df.to_excel('/home/atearge/Bioinformatics_data/Veriler/Deney_3/T18_154_L/T18_154_L.xlsx')\n"
   ]
  },
  {
   "cell_type": "code",
   "execution_count": null,
   "id": "d8654159",
   "metadata": {},
   "outputs": [],
   "source": []
  },
  {
   "cell_type": "code",
   "execution_count": null,
   "id": "e0208ce6",
   "metadata": {},
   "outputs": [],
   "source": []
  }
 ],
 "metadata": {
  "kernelspec": {
   "display_name": "Python 3 (ipykernel)",
   "language": "python",
   "name": "python3"
  },
  "language_info": {
   "codemirror_mode": {
    "name": "ipython",
    "version": 3
   },
   "file_extension": ".py",
   "mimetype": "text/x-python",
   "name": "python",
   "nbconvert_exporter": "python",
   "pygments_lexer": "ipython3",
   "version": "3.10.5"
  }
 },
 "nbformat": 4,
 "nbformat_minor": 5
}
